{
 "cells": [
  {
   "cell_type": "markdown",
   "id": "7b70dba7",
   "metadata": {},
   "source": [
    "https://medium.com/@lifanov.a.v/integrating-langgraph-with-ollama-for-advanced-llm-applications-d6c10262dafa"
   ]
  },
  {
   "cell_type": "code",
   "execution_count": null,
   "id": "173abb13",
   "metadata": {},
   "outputs": [
    {
     "ename": "AttributeError",
     "evalue": "'StructuredTool' object has no attribute '__name__'",
     "output_type": "error",
     "traceback": [
      "\u001b[31m---------------------------------------------------------------------------\u001b[39m",
      "\u001b[31mAttributeError\u001b[39m                            Traceback (most recent call last)",
      "\u001b[36mCell\u001b[39m\u001b[36m \u001b[39m\u001b[32mIn[3]\u001b[39m\u001b[32m, line 42\u001b[39m\n\u001b[32m     37\u001b[39m     \u001b[38;5;28;01mreturn\u001b[39;00m datetime.now().strftime(\u001b[38;5;28mformat\u001b[39m)\n\u001b[32m     40\u001b[39m tools = [get_now]\n\u001b[32m---> \u001b[39m\u001b[32m42\u001b[39m tool_executor = \u001b[43mToolExecutor\u001b[49m\u001b[43m(\u001b[49m\u001b[43mtools\u001b[49m\u001b[43m)\u001b[49m\n",
      "\u001b[36mCell\u001b[39m\u001b[36m \u001b[39m\u001b[32mIn[3]\u001b[39m\u001b[32m, line 22\u001b[39m, in \u001b[36mToolExecutor.__init__\u001b[39m\u001b[34m(self, tools)\u001b[39m\n\u001b[32m     21\u001b[39m \u001b[38;5;28;01mdef\u001b[39;00m\u001b[38;5;250m \u001b[39m\u001b[34m__init__\u001b[39m(\u001b[38;5;28mself\u001b[39m, tools):\n\u001b[32m---> \u001b[39m\u001b[32m22\u001b[39m     \u001b[38;5;28mself\u001b[39m.tools = {\u001b[43mtool\u001b[49m\u001b[43m.\u001b[49m\u001b[34;43m__name__\u001b[39;49m: tool \u001b[38;5;28;01mfor\u001b[39;00m tool \u001b[38;5;129;01min\u001b[39;00m tools}\n",
      "\u001b[36mFile \u001b[39m\u001b[32mc:\\Users\\Andrew\\Desktop\\Coding\\Xu Research\\AI-Agent-Playground\\agent\\Lib\\site-packages\\pydantic\\main.py:986\u001b[39m, in \u001b[36mBaseModel.__getattr__\u001b[39m\u001b[34m(self, item)\u001b[39m\n\u001b[32m    984\u001b[39m \u001b[38;5;28;01melse\u001b[39;00m:\n\u001b[32m    985\u001b[39m     \u001b[38;5;28;01mif\u001b[39;00m \u001b[38;5;28mhasattr\u001b[39m(\u001b[38;5;28mself\u001b[39m.\u001b[34m__class__\u001b[39m, item):\n\u001b[32m--> \u001b[39m\u001b[32m986\u001b[39m         \u001b[38;5;28;01mreturn\u001b[39;00m \u001b[38;5;28;43msuper\u001b[39;49m\u001b[43m(\u001b[49m\u001b[43m)\u001b[49m\u001b[43m.\u001b[49m\u001b[34;43m__getattribute__\u001b[39;49m\u001b[43m(\u001b[49m\u001b[43mitem\u001b[49m\u001b[43m)\u001b[49m  \u001b[38;5;66;03m# Raises AttributeError if appropriate\u001b[39;00m\n\u001b[32m    987\u001b[39m     \u001b[38;5;28;01melse\u001b[39;00m:\n\u001b[32m    988\u001b[39m         \u001b[38;5;66;03m# this is the current error\u001b[39;00m\n\u001b[32m    989\u001b[39m         \u001b[38;5;28;01mraise\u001b[39;00m \u001b[38;5;167;01mAttributeError\u001b[39;00m(\u001b[33mf\u001b[39m\u001b[33m'\u001b[39m\u001b[38;5;132;01m{\u001b[39;00m\u001b[38;5;28mtype\u001b[39m(\u001b[38;5;28mself\u001b[39m).\u001b[34m__name__\u001b[39m\u001b[38;5;132;01m!r}\u001b[39;00m\u001b[33m object has no attribute \u001b[39m\u001b[38;5;132;01m{\u001b[39;00mitem\u001b[38;5;132;01m!r}\u001b[39;00m\u001b[33m'\u001b[39m)\n",
      "\u001b[31mAttributeError\u001b[39m: 'StructuredTool' object has no attribute '__name__'"
     ]
    }
   ],
   "source": [
    "import operator\n",
    "from datetime import datetime\n",
    "from typing import Annotated, TypedDict, Union\n",
    "\n",
    "from dotenv import load_dotenv\n",
    "from langchain import hub\n",
    "from langchain.agents import create_react_agent\n",
    "from langchain_community.chat_models import ChatOllama\n",
    "from langchain_core.agents import AgentAction, AgentFinish\n",
    "from langchain_core.messages import BaseMessage\n",
    "from langchain_core.tools import tool\n",
    "from langgraph.graph import END, StateGraph\n",
    "from langgraph.prebuilt import ToolExecutor, ToolInvocation\n",
    "\n",
    "load_dotenv()\n",
    "\n",
    "@tool\n",
    "def get_now(format: str = \"%Y-%m-%d %H:%M:%S\"):\n",
    "    \"\"\"\n",
    "    Get the current time\n",
    "    \"\"\"\n",
    "    return datetime.now().strftime(format)\n",
    "\n",
    "\n",
    "tools = [get_now]\n",
    "\n",
    "tool_executor = ToolExecutor(tools)"
   ]
  },
  {
   "cell_type": "code",
   "execution_count": null,
   "id": "e922348d",
   "metadata": {},
   "outputs": [],
   "source": [
    "class AgentState(TypedDict):\n",
    "    input: str\n",
    "    chat_history: list[BaseMessage]\n",
    "    agent_outcome: Union[AgentAction, AgentFinish, None]\n",
    "    intermediate_steps: Annotated[list[tuple[AgentAction, str]], operator.add]\n",
    "\n",
    "\n",
    "model = ChatOllama(model=\"openhermes\")\n",
    "prompt = hub.pull(\"hwchase17/react\")\n",
    "\n",
    "\n",
    "agent_runnable = create_react_agent(model, tools, prompt)"
   ]
  },
  {
   "cell_type": "code",
   "execution_count": null,
   "id": "bf835296",
   "metadata": {},
   "outputs": [],
   "source": [
    "def execute_tools(state):\n",
    "    print(\"Called `execute_tools`\")\n",
    "    messages = [state[\"agent_outcome\"]]\n",
    "    last_message = messages[-1]\n",
    "\n",
    "    tool_name = last_message.tool\n",
    "\n",
    "    print(f\"Calling tool: {tool_name}\")\n",
    "\n",
    "    action = ToolInvocation(\n",
    "        tool=tool_name,\n",
    "        tool_input=last_message.tool_input,\n",
    "    )\n",
    "    response = tool_executor.invoke(action)\n",
    "    return {\"intermediate_steps\": [(state[\"agent_outcome\"], response)]}\n",
    "\n",
    "\n",
    "def run_agent(state):\n",
    "    \"\"\"\n",
    "    #if you want to better manages intermediate steps\n",
    "    inputs = state.copy()\n",
    "    if len(inputs['intermediate_steps']) > 5:\n",
    "        inputs['intermediate_steps'] = inputs['intermediate_steps'][-5:]\n",
    "    \"\"\"\n",
    "    agent_outcome = agent_runnable.invoke(state)\n",
    "    return {\"agent_outcome\": agent_outcome}\n",
    "\n",
    "\n",
    "def should_continue(state):\n",
    "    messages = [state[\"agent_outcome\"]]\n",
    "    last_message = messages[-1]\n",
    "    if \"Action\" not in last_message.log:\n",
    "        return \"end\"\n",
    "    else:\n",
    "        return \"continue\""
   ]
  },
  {
   "cell_type": "code",
   "execution_count": null,
   "id": "6333527c",
   "metadata": {},
   "outputs": [],
   "source": [
    "workflow = StateGraph(AgentState)\n",
    "\n",
    "workflow.add_node(\"agent\", run_agent)\n",
    "workflow.add_node(\"action\", execute_tools)\n",
    "\n",
    "\n",
    "workflow.set_entry_point(\"agent\")\n",
    "\n",
    "workflow.add_conditional_edges(\n",
    "    \"agent\", should_continue, {\"continue\": \"action\", \"end\": END}\n",
    ")\n",
    "\n",
    "\n",
    "workflow.add_edge(\"action\", \"agent\")\n",
    "app = workflow.compile()\n",
    "\n",
    "input_text = \"Whats the current time?\""
   ]
  },
  {
   "cell_type": "code",
   "execution_count": null,
   "id": "c4f0dde7",
   "metadata": {},
   "outputs": [],
   "source": [
    "inputs = {\"input\": input_text, \"chat_history\": []}\n",
    "results = []\n",
    "for s in app.stream(inputs):\n",
    "    result = list(s.values())[0]\n",
    "    results.append(result)\n",
    "    print(result)"
   ]
  }
 ],
 "metadata": {
  "kernelspec": {
   "display_name": "agent",
   "language": "python",
   "name": "python3"
  },
  "language_info": {
   "codemirror_mode": {
    "name": "ipython",
    "version": 3
   },
   "file_extension": ".py",
   "mimetype": "text/x-python",
   "name": "python",
   "nbconvert_exporter": "python",
   "pygments_lexer": "ipython3",
   "version": "3.13.3"
  }
 },
 "nbformat": 4,
 "nbformat_minor": 5
}
