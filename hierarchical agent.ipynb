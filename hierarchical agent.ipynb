{
 "cells": [
  {
   "cell_type": "markdown",
   "id": "7bfd567e",
   "metadata": {},
   "source": [
    "## Setup"
   ]
  },
  {
   "cell_type": "code",
   "execution_count": 1,
   "id": "84c36792",
   "metadata": {},
   "outputs": [
    {
     "name": "stdout",
     "output_type": "stream",
     "text": [
      "API keys loaded successfully.\n"
     ]
    }
   ],
   "source": [
    "from dotenv import load_dotenv\n",
    "import os\n",
    "\n",
    "# Load environment variables from the .env file\n",
    "load_dotenv()\n",
    "\n",
    "# Access the API keys\n",
    "openai_api_key = os.getenv(\"OPENAI_API_KEY\")\n",
    "tavily_api_key = os.getenv(\"TAVILY_API_KEY\")\n",
    "\n",
    "if not openai_api_key:\n",
    "    raise ValueError(\"OPENAI_API_KEY is not set in the .env file or environment variables.\")\n",
    "\n",
    "if not tavily_api_key:\n",
    "    raise ValueError(\"TAVILY_API_KEY is not set in the .env file or environment variables.\")\n",
    "\n",
    "print(\"API keys loaded successfully.\")"
   ]
  },
  {
   "cell_type": "markdown",
   "id": "d8c2499a",
   "metadata": {},
   "source": [
    "## Create Tools"
   ]
  },
  {
   "cell_type": "markdown",
   "id": "6ac741e0",
   "metadata": {},
   "source": [
    "### ResearchTeam tools"
   ]
  },
  {
   "cell_type": "code",
   "execution_count": 2,
   "id": "13552c45",
   "metadata": {},
   "outputs": [
    {
     "name": "stderr",
     "output_type": "stream",
     "text": [
      "USER_AGENT environment variable not set, consider setting it to identify your requests.\n"
     ]
    }
   ],
   "source": [
    "from typing import Annotated, List\n",
    "\n",
    "from langchain_community.document_loaders import WebBaseLoader\n",
    "from langchain_community.tools.tavily_search import TavilySearchResults\n",
    "from langchain_core.tools import tool\n",
    "\n",
    "tavily_tool = TavilySearchResults(max_results=5)\n",
    "\n",
    "\n",
    "@tool\n",
    "def scrape_webpages(urls: List[str]) -> str:\n",
    "    \"\"\"Use requests and bs4 to scrape the provided web pages for detailed information.\"\"\"\n",
    "    loader = WebBaseLoader(urls)\n",
    "    docs = loader.load()\n",
    "    return \"\\n\\n\".join(\n",
    "        [\n",
    "            f'<Document name=\"{doc.metadata.get(\"title\", \"\")}\">\\n{doc.page_content}\\n</Document>'\n",
    "            for doc in docs\n",
    "        ]\n",
    "    )"
   ]
  },
  {
   "cell_type": "markdown",
   "id": "5c178ada",
   "metadata": {},
   "source": [
    "### Document writing team tools"
   ]
  },
  {
   "cell_type": "code",
   "execution_count": 3,
   "id": "2bd85259",
   "metadata": {},
   "outputs": [],
   "source": [
    "from pathlib import Path\n",
    "from tempfile import TemporaryDirectory\n",
    "from typing import Dict, Optional\n",
    "\n",
    "from langchain_experimental.utilities import PythonREPL\n",
    "from typing_extensions import TypedDict\n",
    "\n",
    "_TEMP_DIRECTORY = TemporaryDirectory()\n",
    "WORKING_DIRECTORY = Path(_TEMP_DIRECTORY.name)\n",
    "\n",
    "\n",
    "@tool\n",
    "def create_outline(\n",
    "    points: Annotated[List[str], \"List of main points or sections.\"],\n",
    "    file_name: Annotated[str, \"File path to save the outline.\"],\n",
    ") -> Annotated[str, \"Path of the saved outline file.\"]:\n",
    "    \"\"\"Create and save an outline.\"\"\"\n",
    "    with (WORKING_DIRECTORY / file_name).open(\"w\") as file:\n",
    "        for i, point in enumerate(points):\n",
    "            file.write(f\"{i + 1}. {point}\\n\")\n",
    "    return f\"Outline saved to {file_name}\"\n",
    "\n",
    "\n",
    "@tool\n",
    "def read_document(\n",
    "    file_name: Annotated[str, \"File path to read the document from.\"],\n",
    "    start: Annotated[Optional[int], \"The start line. Default is 0\"] = None,\n",
    "    end: Annotated[Optional[int], \"The end line. Default is None\"] = None,\n",
    ") -> str:\n",
    "    \"\"\"Read the specified document.\"\"\"\n",
    "    with (WORKING_DIRECTORY / file_name).open(\"r\") as file:\n",
    "        lines = file.readlines()\n",
    "    if start is None:\n",
    "        start = 0\n",
    "    return \"\\n\".join(lines[start:end])\n",
    "\n",
    "\n",
    "@tool\n",
    "def write_document(\n",
    "    content: Annotated[str, \"Text content to be written into the document.\"],\n",
    "    file_name: Annotated[str, \"File path to save the document.\"],\n",
    ") -> Annotated[str, \"Path of the saved document file.\"]:\n",
    "    \"\"\"Create and save a text document.\"\"\"\n",
    "    with (WORKING_DIRECTORY / file_name).open(\"w\") as file:\n",
    "        file.write(content)\n",
    "    return f\"Document saved to {file_name}\"\n",
    "\n",
    "\n",
    "@tool\n",
    "def edit_document(\n",
    "    file_name: Annotated[str, \"Path of the document to be edited.\"],\n",
    "    inserts: Annotated[\n",
    "        Dict[int, str],\n",
    "        \"Dictionary where key is the line number (1-indexed) and value is the text to be inserted at that line.\",\n",
    "    ],\n",
    ") -> Annotated[str, \"Path of the edited document file.\"]:\n",
    "    \"\"\"Edit a document by inserting text at specific line numbers.\"\"\"\n",
    "\n",
    "    with (WORKING_DIRECTORY / file_name).open(\"r\") as file:\n",
    "        lines = file.readlines()\n",
    "\n",
    "    sorted_inserts = sorted(inserts.items())\n",
    "\n",
    "    for line_number, text in sorted_inserts:\n",
    "        if 1 <= line_number <= len(lines) + 1:\n",
    "            lines.insert(line_number - 1, text + \"\\n\")\n",
    "        else:\n",
    "            return f\"Error: Line number {line_number} is out of range.\"\n",
    "\n",
    "    with (WORKING_DIRECTORY / file_name).open(\"w\") as file:\n",
    "        file.writelines(lines)\n",
    "\n",
    "    return f\"Document edited and saved to {file_name}\"\n",
    "\n",
    "\n",
    "# Warning: This executes code locally, which can be unsafe when not sandboxed\n",
    "\n",
    "repl = PythonREPL()\n",
    "\n",
    "\n",
    "@tool\n",
    "def python_repl_tool(\n",
    "    code: Annotated[str, \"The python code to execute to generate your chart.\"],\n",
    "):\n",
    "    \"\"\"Use this to execute python code. If you want to see the output of a value,\n",
    "    you should print it out with 'print(...)'. This is visible to the user.\"\"\"\n",
    "    try:\n",
    "        result = repl.run(code)\n",
    "    except BaseException as e:\n",
    "        return f\"Failed to execute. Error: {repr(e)}\"\n",
    "    return f\"Successfully executed:\\n\\'\\'\\'python\\n{code}\\n\\'\\'\\'\\nStdout: {result}\""
   ]
  },
  {
   "cell_type": "markdown",
   "id": "90e2a2bb",
   "metadata": {},
   "source": [
    "### Helper Utilities"
   ]
  },
  {
   "cell_type": "code",
   "execution_count": 4,
   "id": "ef71ca77",
   "metadata": {},
   "outputs": [],
   "source": [
    "from typing import List, Optional, Literal\n",
    "from langchain_core.language_models.chat_models import BaseChatModel\n",
    "\n",
    "from langgraph.graph import StateGraph, MessagesState, START, END\n",
    "from langgraph.types import Command\n",
    "from langchain_core.messages import HumanMessage, trim_messages\n",
    "\n",
    "\n",
    "class State(MessagesState):\n",
    "    next: str\n",
    "\n",
    "\n",
    "def make_supervisor_node(llm: BaseChatModel, members: list[str]) -> str:\n",
    "    options = [\"FINISH\"] + members\n",
    "    system_prompt = (\n",
    "        \"You are a supervisor tasked with managing a conversation between the\"\n",
    "        f\" following workers: {members}. Given the following user request,\"\n",
    "        \" respond with the worker to act next. Each worker will perform a\"\n",
    "        \" task and respond with their results and status. When finished,\"\n",
    "        \" respond with FINISH.\"\n",
    "    )\n",
    "\n",
    "    class Router(TypedDict):\n",
    "        \"\"\"Worker to route to next. If no workers needed, route to FINISH.\"\"\"\n",
    "\n",
    "        next: Literal[*options]\n",
    "\n",
    "    def supervisor_node(state: State) -> Command[Literal[*members, \"__end__\"]]:\n",
    "        \"\"\"An LLM-based router.\"\"\"\n",
    "        messages = [\n",
    "            {\"role\": \"system\", \"content\": system_prompt},\n",
    "        ] + state[\"messages\"]\n",
    "        response = llm.with_structured_output(Router).invoke(messages)\n",
    "        goto = response[\"next\"]\n",
    "        if goto == \"FINISH\":\n",
    "            goto = END\n",
    "\n",
    "        return Command(goto=goto, update={\"next\": goto})\n",
    "\n",
    "    return supervisor_node"
   ]
  },
  {
   "cell_type": "markdown",
   "id": "b6fc4bac",
   "metadata": {},
   "source": [
    "### Define Agent Teams"
   ]
  },
  {
   "cell_type": "code",
   "execution_count": null,
   "id": "ad1061aa",
   "metadata": {},
   "outputs": [],
   "source": [
    "from langchain_core.messages import HumanMessage\n",
    "from langchain_openai import ChatOpenAI\n",
    "from langgraph.prebuilt import create_react_agent\n",
    "from langchain_ollama import ChatOllama\n",
    "\n",
    "llm = ChatOllama(model=\"llama3-groq-tool-use:8b\")\n",
    "\n",
    "search_agent = create_react_agent(llm, tools=[tavily_tool])\n",
    "\n",
    "\n",
    "def search_node(state: State) -> Command[Literal[\"supervisor\"]]:\n",
    "    result = search_agent.invoke(state)\n",
    "    return Command(\n",
    "        update={\n",
    "            \"messages\": [\n",
    "                HumanMessage(content=result[\"messages\"][-1].content, name=\"search\")\n",
    "            ]\n",
    "        },\n",
    "        # We want our workers to ALWAYS \"report back\" to the supervisor when done\n",
    "        goto=\"supervisor\",\n",
    "    )\n",
    "\n",
    "\n",
    "web_scraper_agent = create_react_agent(llm, tools=[scrape_webpages])\n",
    "\n",
    "\n",
    "def web_scraper_node(state: State) -> Command[Literal[\"supervisor\"]]:\n",
    "    result = web_scraper_agent.invoke(state)\n",
    "    return Command(\n",
    "        update={\n",
    "            \"messages\": [\n",
    "                HumanMessage(content=result[\"messages\"][-1].content, name=\"web_scraper\")\n",
    "            ]\n",
    "        },\n",
    "        # We want our workers to ALWAYS \"report back\" to the supervisor when done\n",
    "        goto=\"supervisor\",\n",
    "    )\n",
    "\n",
    "\n",
    "research_supervisor_node = make_supervisor_node(llm, [\"search\", \"web_scraper\"])"
   ]
  },
  {
   "cell_type": "code",
   "execution_count": 6,
   "id": "c8c0e229",
   "metadata": {},
   "outputs": [],
   "source": [
    "research_builder = StateGraph(State)\n",
    "research_builder.add_node(\"supervisor\", research_supervisor_node)\n",
    "research_builder.add_node(\"search\", search_node)\n",
    "research_builder.add_node(\"web_scraper\", web_scraper_node)\n",
    "\n",
    "research_builder.add_edge(START, \"supervisor\")\n",
    "research_graph = research_builder.compile()"
   ]
  },
  {
   "cell_type": "code",
   "execution_count": 7,
   "id": "906af56a",
   "metadata": {},
   "outputs": [
    {
     "data": {
      "image/png": "[encoded data removed]",
      "text/plain": [
       "<IPython.core.display.Image object>"
      ]
     },
     "metadata": {},
     "output_type": "display_data"
    }
   ],
   "source": [
    "from IPython.display import Image, display\n",
    "\n",
    "display(Image(research_graph.get_graph().draw_mermaid_png()))"
   ]
  },
  {
   "cell_type": "code",
   "execution_count": 8,
   "id": "1d7a4de3",
   "metadata": {},
   "outputs": [
    {
     "name": "stdout",
     "output_type": "stream",
     "text": [
      "{'supervisor': {'next': 'search'}}\n",
      "---\n",
      "{'search': {'messages': [HumanMessage(content='I\\'m sorry but I don\\'t have the capability to perform searches on external websites. However, you can try searching for \"Taylor Swift\\'s next tour\" on a search engine like Google.', additional_kwargs={}, response_metadata={}, name='search', id='a0af0162-b7aa-4a60-9fb0-80265b584cb0')]}}\n",
      "---\n",
      "{'supervisor': {'next': 'search'}}\n",
      "---\n",
      "{'search': {'messages': [HumanMessage(content=\"Based on the search results, Taylor Swift's next tour is rumored to start in 2026 after she finishes her current Eras Tour and releases a new album. This information is based on sources like Newsweek, Cosmopolitan, and Wikipedia. Would you like more details on this topic?\", additional_kwargs={}, response_metadata={}, name='search', id='83b059b7-ae4e-4514-88b8-b8a26d6881a3')]}}\n",
      "---\n",
      "{'supervisor': {'next': '__end__'}}\n",
      "---\n"
     ]
    }
   ],
   "source": [
    "for s in research_graph.stream(\n",
    "    {\"messages\": [(\"user\", \"when is Taylor Swift's next tour?\")]},\n",
    "    {\"recursion_limit\": 100},\n",
    "):\n",
    "    print(s)\n",
    "    print(\"---\")"
   ]
  },
  {
   "cell_type": "markdown",
   "id": "31260999",
   "metadata": {},
   "source": [
    "Switch back to using OpenAI model"
   ]
  },
  {
   "cell_type": "code",
   "execution_count": null,
   "id": "eab96b8f",
   "metadata": {},
   "outputs": [],
   "source": [
    "llm = ChatOpenAI(model=\"gpt-4o\")\n",
    "\n",
    "doc_writer_agent = create_react_agent(\n",
    "    llm,\n",
    "    tools=[write_document, edit_document, read_document],\n",
    "    prompt=(\n",
    "        \"You can read, write and edit documents based on note-taker's outlines. \"\n",
    "        \"Don't ask follow-up questions.\"\n",
    "    ),\n",
    ")\n",
    "\n",
    "\n",
    "def doc_writing_node(state: State) -> Command[Literal[\"supervisor\"]]:\n",
    "    result = doc_writer_agent.invoke(state)\n",
    "    return Command(\n",
    "        update={\n",
    "            \"messages\": [\n",
    "                HumanMessage(content=result[\"messages\"][-1].content, name=\"doc_writer\")\n",
    "            ]\n",
    "        },\n",
    "        # We want our workers to ALWAYS \"report back\" to the supervisor when done\n",
    "        goto=\"supervisor\",\n",
    "    )\n",
    "\n",
    "\n",
    "note_taking_agent = create_react_agent(\n",
    "    llm,\n",
    "    tools=[create_outline, read_document],\n",
    "    prompt=(\n",
    "        \"You can read documents and create outlines for the document writer. \"\n",
    "        \"Don't ask follow-up questions.\"\n",
    "    ),\n",
    ")\n",
    "\n",
    "\n",
    "def note_taking_node(state: State) -> Command[Literal[\"supervisor\"]]:\n",
    "    result = note_taking_agent.invoke(state)\n",
    "    return Command(\n",
    "        update={\n",
    "            \"messages\": [\n",
    "                HumanMessage(content=result[\"messages\"][-1].content, name=\"note_taker\")\n",
    "            ]\n",
    "        },\n",
    "        # We want our workers to ALWAYS \"report back\" to the supervisor when done\n",
    "        goto=\"supervisor\",\n",
    "    )\n",
    "\n",
    "\n",
    "chart_generating_agent = create_react_agent(\n",
    "    llm, tools=[read_document, python_repl_tool]\n",
    ")\n",
    "\n",
    "\n",
    "def chart_generating_node(state: State) -> Command[Literal[\"supervisor\"]]:\n",
    "    result = chart_generating_agent.invoke(state)\n",
    "    return Command(\n",
    "        update={\n",
    "            \"messages\": [\n",
    "                HumanMessage(\n",
    "                    content=result[\"messages\"][-1].content, name=\"chart_generator\"\n",
    "                )\n",
    "            ]\n",
    "        },\n",
    "        # We want our workers to ALWAYS \"report back\" to the supervisor when done\n",
    "        goto=\"supervisor\",\n",
    "    )\n",
    "\n",
    "\n",
    "doc_writing_supervisor_node = make_supervisor_node(\n",
    "    llm, [\"doc_writer\", \"note_taker\", \"chart_generator\"]\n",
    ")"
   ]
  },
  {
   "cell_type": "code",
   "execution_count": 11,
   "id": "9790c0bf",
   "metadata": {},
   "outputs": [],
   "source": [
    "# Create the graph here\n",
    "paper_writing_builder = StateGraph(State)\n",
    "paper_writing_builder.add_node(\"supervisor\", doc_writing_supervisor_node)\n",
    "paper_writing_builder.add_node(\"doc_writer\", doc_writing_node)\n",
    "paper_writing_builder.add_node(\"note_taker\", note_taking_node)\n",
    "paper_writing_builder.add_node(\"chart_generator\", chart_generating_node)\n",
    "\n",
    "paper_writing_builder.add_edge(START, \"supervisor\")\n",
    "paper_writing_graph = paper_writing_builder.compile()"
   ]
  },
  {
   "cell_type": "code",
   "execution_count": 12,
   "id": "b5c6df74",
   "metadata": {},
   "outputs": [
    {
     "data": {
      "image/png": "[encoded data removed]",
      "text/plain": [
       "<IPython.core.display.Image object>"
      ]
     },
     "metadata": {},
     "output_type": "display_data"
    }
   ],
   "source": [
    "from IPython.display import Image, display\n",
    "\n",
    "display(Image(paper_writing_graph.get_graph().draw_mermaid_png()))"
   ]
  },
  {
   "cell_type": "code",
   "execution_count": 13,
   "id": "54ded42b",
   "metadata": {},
   "outputs": [
    {
     "name": "stdout",
     "output_type": "stream",
     "text": [
      "{'supervisor': {'next': 'doc_writer'}}\n",
      "---\n",
      "{'doc_writer': {'messages': [HumanMessage(content='The poem \"Whiskered Wonders\" has been written and saved as \"poem_about_cats.txt\".', additional_kwargs={}, response_metadata={}, name='doc_writer', id='19fd45ae-c275-4f7e-ab65-dfdf36454789')]}}\n",
      "---\n",
      "{'supervisor': {'next': 'note_taker'}}\n",
      "---\n",
      "{'note_taker': {'messages': [HumanMessage(content='The outline for the poem about cats has been saved as \"poem_outline_about_cats.txt\".', additional_kwargs={}, response_metadata={}, name='note_taker', id='d4ee0cbd-176b-4eec-b912-18cba07c75df')]}}\n",
      "---\n",
      "{'supervisor': {'next': '__end__'}}\n",
      "---\n"
     ]
    }
   ],
   "source": [
    "for s in paper_writing_graph.stream(\n",
    "    {\n",
    "        \"messages\": [\n",
    "            (\n",
    "                \"user\",\n",
    "                \"Write an outline for poem about cats and then write the poem to disk.\",\n",
    "            )\n",
    "        ]\n",
    "    },\n",
    "    {\"recursion_limit\": 100},\n",
    "):\n",
    "    print(s)\n",
    "    print(\"---\")"
   ]
  },
  {
   "cell_type": "markdown",
   "id": "99736096",
   "metadata": {},
   "source": [
    "### Add Layers"
   ]
  },
  {
   "cell_type": "code",
   "execution_count": 14,
   "id": "738497f3",
   "metadata": {},
   "outputs": [],
   "source": [
    "from langchain_core.messages import BaseMessage\n",
    "\n",
    "llm = ChatOpenAI(model=\"gpt-4o\")\n",
    "\n",
    "teams_supervisor_node = make_supervisor_node(llm, [\"research_team\", \"writing_team\"])"
   ]
  },
  {
   "cell_type": "code",
   "execution_count": 15,
   "id": "e06f161f",
   "metadata": {},
   "outputs": [],
   "source": [
    "def call_research_team(state: State) -> Command[Literal[\"supervisor\"]]:\n",
    "    response = research_graph.invoke({\"messages\": state[\"messages\"][-1]})\n",
    "    return Command(\n",
    "        update={\n",
    "            \"messages\": [\n",
    "                HumanMessage(\n",
    "                    content=response[\"messages\"][-1].content, name=\"research_team\"\n",
    "                )\n",
    "            ]\n",
    "        },\n",
    "        goto=\"supervisor\",\n",
    "    )\n",
    "\n",
    "\n",
    "def call_paper_writing_team(state: State) -> Command[Literal[\"supervisor\"]]:\n",
    "    response = paper_writing_graph.invoke({\"messages\": state[\"messages\"][-1]})\n",
    "    return Command(\n",
    "        update={\n",
    "            \"messages\": [\n",
    "                HumanMessage(\n",
    "                    content=response[\"messages\"][-1].content, name=\"writing_team\"\n",
    "                )\n",
    "            ]\n",
    "        },\n",
    "        goto=\"supervisor\",\n",
    "    )\n",
    "\n",
    "\n",
    "# Define the graph.\n",
    "super_builder = StateGraph(State)\n",
    "super_builder.add_node(\"supervisor\", teams_supervisor_node)\n",
    "super_builder.add_node(\"research_team\", call_research_team)\n",
    "super_builder.add_node(\"writing_team\", call_paper_writing_team)\n",
    "\n",
    "super_builder.add_edge(START, \"supervisor\")\n",
    "super_graph = super_builder.compile()"
   ]
  },
  {
   "cell_type": "code",
   "execution_count": 16,
   "id": "d9412755",
   "metadata": {},
   "outputs": [
    {
     "data": {
      "image/png": "[encoded data removed]",
      "text/plain": [
       "<IPython.core.display.Image object>"
      ]
     },
     "metadata": {},
     "output_type": "display_data"
    }
   ],
   "source": [
    "from IPython.display import Image, display\n",
    "\n",
    "display(Image(super_graph.get_graph().draw_mermaid_png()))"
   ]
  },
  {
   "cell_type": "code",
   "execution_count": 17,
   "id": "3650cb47",
   "metadata": {},
   "outputs": [
    {
     "name": "stdout",
     "output_type": "stream",
     "text": [
      "{'supervisor': {'next': 'research_team'}}\n",
      "---\n",
      "{'research_team': {'messages': [HumanMessage(content='### Overview of AI Agents\\n\\nAI agents are a significant advancement in artificial intelligence, representing sophisticated programs capable of automating tasks, making decisions, and operating independently to achieve specified goals. As of 2023, the landscape of AI agents has evolved significantly, expanding beyond simple chatbots into comprehensive tools that can operate autonomously with minimal human intervention.\\n\\n### Evolution and Examples in 2023\\n\\nAI agents have moved past mere code generation examples to embody comprehensive functionalities and tasks. Notable instances include OpenAI’s code interpreter and Cognition’s Devin, which illustrate the initial phases of AI agents. However, the AI agent concept has expanded far beyond code-related tasks into more diverse applications, including managing entire job descriptions and executing complex workflows.\\n\\nOne prominent example as of 2023 is Cognosys, an AI developed by CognosysAI, Inc., functioning as a chatbot that performs complex and multi-step tasks. Similarly, Auto-GPT, a popular open-source AI agent developed by Toran Bruce Richards, is capable of automating tasks such as social media content creation and web design.\\n\\n### Growth and Potential\\n\\nThe AI agents market in 2023 was valued at approximately USD 3.86 billion, with expectations of rapid growth (a projected 45.1% annual increase) from 2024 onwards. AI agents are now being integrated more deeply into business processes, moving beyond experimental phases to becoming essential tools that enhance productivity and efficiency in various sectors.\\n\\nThese agents are not only expected to automate mundane tasks but also facilitate complex decision-making processes by continuously monitoring data streams and acting based on real-time insights. In essence, AI agents are being groomed to handle roles that previously required human oversight, thereby drastically increasing operational efficiency and potentially reshaping job landscapes.\\n\\n### Future Outlook\\n\\nLooking forward, AI agents are poised to become an integral component of organizational setups by automating routine yet essential tasks. By 2025, their adoption is expected to shift AI’s role from a novel technology to a necessary tool for business efficacy. However, the development of fully autonomous AI agents, such as generative AI agents, is still underway, indicating tremendous untapped potential that can revolutionize industries further.\\n\\nAI agents represent a critical shift towards more intelligent, autonomous, and efficient systems capable of transforming how businesses operate and fostering a future where AI-driven operations become the norm across various fields.', additional_kwargs={}, response_metadata={}, name='research_team', id='31802cb0-e31b-4159-b575-8c4a8d283b7d')]}}\n",
      "---\n",
      "{'supervisor': {'next': 'writing_team'}}\n",
      "---\n",
      "{'writing_team': {'messages': [HumanMessage(content='Here are the contents of the two documents:\\n\\n### Overview of AI Agents Document\\nThis document provides a comprehensive overview of AI agents as of 2023. It details the evolution, examples, growth potential, and future outlook of AI agents.\\n\\n1. **Introduction to AI Agents**: AI agents are described as advanced programs capable of automating tasks, decision-making, and operating independently with minimal human input.\\n\\n2. **Evolution and Examples in 2023**: The document discusses how AI agents have evolved from simplistic applications to complex tools capable of performing diverse tasks. Notable examples include OpenAI’s code interpreter and Cognition’s Devin, as well as Cognosys and Auto-GPT, both of which perform complex, multi-step tasks.\\n\\n3. **Growth and Potential**: The AI agents market in 2023 is valued at approximately USD 3.86 billion, with a projected growth rate of 45.1% from 2024. AI agents are increasingly being integrated into business processes, enhancing productivity and efficiency.\\n\\n4. **Future Outlook**: AI agents are set to become routine components in businesses by 2025. While there is still development needed for fully autonomous AI agents, their potential to revolutionize industries remains high.\\n\\n### Outline of AI Agents Document\\nThis document provides the structure for organizing the content related to the topic of AI agents.\\n\\n1. **Introduction to AI Agents**\\n2. **Evolution and Examples in 2023**\\n3. **Growth and Potential**\\n4. **Future Outlook** \\n\\nBoth documents are designed to provide an in-depth look into the state and future possibilities of AI agents, highlighting their importance in modern and future technologies.', additional_kwargs={}, response_metadata={}, name='writing_team', id='bcbc7a1a-80a4-491f-b084-bcd4bb66485b')]}}\n",
      "---\n",
      "{'supervisor': {'next': 'writing_team'}}\n",
      "---\n"
     ]
    },
    {
     "name": "stderr",
     "output_type": "stream",
     "text": [
      "Python REPL can execute arbitrary code. Use with caution.\n"
     ]
    },
    {
     "name": "stdout",
     "output_type": "stream",
     "text": [
      "{'writing_team': {'messages': [HumanMessage(content=\"Here is a Python code snippet that you can use in a local Python environment with the `matplotlib` library to generate a bar chart of AI agents' market data:\\n\\n```python\\nimport matplotlib.pyplot as plt\\n\\n# Data\\nyears = ['2023', '2024']\\nmarket_value = [3.86, 3.86 * (1 + 45.1 / 100)]  # 2023 value, estimated growth for 2024\\n\\n# Create bar chart\\nplt.bar(years, market_value, color=['blue', 'orange'])\\n\\n# Add title and labels\\nplt.title('AI Agents Market Value')\\nplt.xlabel('Year')\\nplt.ylabel('Market Value (USD Billion)')\\n\\n# Display the chart\\nplt.show()\\n```\\n\\nThis code will generate a simple bar chart showing the AI agents market value for 2023 and the estimated growth for 2024 based on a 45.1% increase. Make sure you have `matplotlib` installed in your environment to execute this code.\", additional_kwargs={}, response_metadata={}, name='writing_team', id='db2de8b1-c717-4ed2-a032-10a328d0ea31')]}}\n",
      "---\n",
      "{'supervisor': {'next': 'writing_team'}}\n",
      "---\n",
      "{'writing_team': {'messages': [HumanMessage(content=\"It looks like there might have been a bit of confusion. To run the provided Python code snippet and generate a bar chart, make sure you have the `matplotlib` library installed in your local Python environment. You can do this by running:\\n\\n```bash\\npip install matplotlib\\n```\\n\\nOnce installed, you should be able to execute the code to visualize the AI agents' market value for 2023 and the estimated growth for 2024. If there's anything else you need, feel free to let me know!\", additional_kwargs={}, response_metadata={}, name='writing_team', id='563733e2-5883-4961-8f6a-59197389a78e')]}}\n",
      "---\n",
      "{'supervisor': {'next': 'writing_team'}}\n",
      "---\n",
      "{'writing_team': {'messages': [HumanMessage(content='I\\'ve saved the provided responses into separate text documents as per each role\\'s perspective:\\n\\n1. **Writing Team Response:** Documented guidance on installing `matplotlib` and running the Python code to generate a bar chart. Saved as \"Writing_Team_Response.txt\".\\n2. **Chart Generator Response:** Assistance offer for running a bar chart using `matplotlib`. Saved as \"Chart_Generator_Response.txt\".\\n3. **Note Taker Responses:** Two separate responses offering assistance in generating or troubleshooting a Python bar chart. Saved as \"Note_Taker_Response_1.txt\" and \"Note_Taker_Response_2.txt\".\\n4. **Additional Chart Generator Responses:** Two instances addressing missing file scenarios during chart generation. Saved as \"Chart_Generator_Response_1.txt\" and \"Chart_Generator_Response_2.txt\".\\n\\nIf there\\'s anything more needed or any further steps to take, please let me know!', additional_kwargs={}, response_metadata={}, name='writing_team', id='49bf5e58-d4dd-499d-9bbe-f53a4ed29c10')]}}\n",
      "---\n",
      "{'supervisor': {'next': 'writing_team'}}\n",
      "---\n",
      "{'writing_team': {'messages': [HumanMessage(content=\"Your saved documents with the various responses sound well-organized. If there's anything else you want to add, edit, or any specific steps you'd like to take next, let me know!\", additional_kwargs={}, response_metadata={}, name='writing_team', id='8951b075-57de-41e7-b8af-49f0900c0fd0')]}}\n",
      "---\n",
      "{'supervisor': {'next': '__end__'}}\n",
      "---\n"
     ]
    }
   ],
   "source": [
    "for s in super_graph.stream(\n",
    "    {\n",
    "        \"messages\": [\n",
    "            (\"user\", \"Research AI agents and write a brief report about them.\")\n",
    "        ],\n",
    "    },\n",
    "    {\"recursion_limit\": 150},\n",
    "):\n",
    "    print(s)\n",
    "    print(\"---\")"
   ]
  }
 ],
 "metadata": {
  "kernelspec": {
   "display_name": "agent",
   "language": "python",
   "name": "python3"
  },
  "language_info": {
   "codemirror_mode": {
    "name": "ipython",
    "version": 3
   },
   "file_extension": ".py",
   "mimetype": "text/x-python",
   "name": "python",
   "nbconvert_exporter": "python",
   "pygments_lexer": "ipython3",
   "version": "3.13.3"
  }
 },
 "nbformat": 4,
 "nbformat_minor": 5
}
